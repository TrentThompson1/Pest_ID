{
 "cells": [
  {
   "metadata": {
    "ExecuteTime": {
     "end_time": "2025-10-16T16:51:06.796395Z",
     "start_time": "2025-10-16T16:51:06.780403Z"
    }
   },
   "cell_type": "code",
   "source": [
    "import tensorflow as tf\n",
    "from tensorflow.keras.applications import EfficientNetB3\n",
    "from tensorflow.keras.models import Model"
   ],
   "id": "a6fdb1c016366486",
   "outputs": [],
   "execution_count": 2
  },
  {
   "metadata": {
    "ExecuteTime": {
     "end_time": "2025-10-16T17:00:44.518220Z",
     "start_time": "2025-10-16T17:00:43.789241Z"
    }
   },
   "cell_type": "code",
   "source": [
    "IMG_SIZE = (300,300)\n",
    "BATCH = 24\n",
    "\n",
    "train_data = tf.keras.utils.image_dataset_from_directory(\n",
    "    'train', image_size = IMG_SIZE, batch_size = BATCH, label_mode = 'categorical')\n",
    "\n",
    "test_data = tf.keras.utils.image_dataset_from_directory(\n",
    "    'test', image_size = IMG_SIZE, batch_size = BATCH, label_mode = 'categorical')\n"
   ],
   "id": "3a24c7ce063eec78",
   "outputs": [
    {
     "name": "stdout",
     "output_type": "stream",
     "text": [
      "Found 4395 files belonging to 12 classes.\n",
      "Found 1099 files belonging to 12 classes.\n"
     ]
    }
   ],
   "execution_count": 4
  }
 ],
 "metadata": {
  "kernelspec": {
   "name": "python3",
   "language": "python",
   "display_name": "Python 3 (ipykernel)"
  }
 },
 "nbformat": 4,
 "nbformat_minor": 5
}
