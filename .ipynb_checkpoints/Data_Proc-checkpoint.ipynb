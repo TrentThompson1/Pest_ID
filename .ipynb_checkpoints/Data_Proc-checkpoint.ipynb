{
 "cells": [
  {
   "cell_type": "code",
   "execution_count": null,
   "id": "385ae504-ba6b-4fcf-8d8c-9d1d4244e6f4",
   "metadata": {},
   "outputs": [],
   "source": [
    "import os\n",
    "from tensorflow.keras.preprocessing.image import ImageDataGenerator"
   ]
  },
  {
   "cell_type": "code",
   "execution_count": null,
   "id": "5b1627cf-6b7a-4216-8662-eb75f267de76",
   "metadata": {},
   "outputs": [],
   "source": [
    "IMG_SIZE = (300, 300)\n",
    "BATCH = 24\n",
    "\n",
    "train_data_gener = ImageDataGenerator(rescale = 1./255, rotation_range = 20, \n",
    "                                width_shift_range = 0.1, height_shift_range = 0.1, \n",
    "                                horizontal_flip = True)\n",
    "test_data_gener = ImageDataGenerator(rescale = 1./255)\n",
    "train_data = train_data_gener.flow_from_directory('train', target_size = IMG_SIZE, \n",
    "                                                  batches = BATCH, class_mode = 'categorical')\n",
    "test_data = test_data_gener.flow_from_directory('test', target_size = IMG_SIZE, \n",
    "                                                  batches = BATCH, class_mode = 'categorical')"
   ]
  },
  {
   "cell_type": "code",
   "execution_count": null,
   "id": "3d07a997-c383-4731-b5ba-bc46fd6335f7",
   "metadata": {},
   "outputs": [],
   "source": []
  }
 ],
 "metadata": {
  "kernelspec": {
   "display_name": "Python [conda env:base] *",
   "language": "python",
   "name": "conda-base-py"
  },
  "language_info": {
   "codemirror_mode": {
    "name": "ipython",
    "version": 3
   },
   "file_extension": ".py",
   "mimetype": "text/x-python",
   "name": "python",
   "nbconvert_exporter": "python",
   "pygments_lexer": "ipython3",
   "version": "3.13.5"
  }
 },
 "nbformat": 4,
 "nbformat_minor": 5
}
