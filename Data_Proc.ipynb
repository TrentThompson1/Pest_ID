{
 "cells": [
  {
   "cell_type": "code",
   "id": "385ae504-ba6b-4fcf-8d8c-9d1d4244e6f4",
   "metadata": {
    "ExecuteTime": {
     "end_time": "2025-10-16T17:35:51.394255Z",
     "start_time": "2025-10-16T17:35:51.379253Z"
    }
   },
   "source": [
    "import os\n",
    "import tensorflow as tf\n",
    "from tensorflow.keras.preprocessing.image import ImageDataGenerator\n",
    "from tensorflow.keras.applications import EfficientNetV2S # prot err\n",
    "from tensorflow.keras.models import Model\n",
    "from tensorflow.keras.layers import Dense, GlobalAveragePooling2D, Dropout\n",
    "from tensorflow.keras.optimizers import Adam"
   ],
   "outputs": [],
   "execution_count": 7
  },
  {
   "cell_type": "code",
   "id": "5b1627cf-6b7a-4216-8662-eb75f267de76",
   "metadata": {
    "jupyter": {
     "is_executing": true
    },
    "ExecuteTime": {
     "start_time": "2025-10-16T17:35:53.171359Z"
    }
   },
   "source": [
    "IMG_SIZE = (300, 300)\n",
    "BATCH = 24\n",
    "NUM_CLASSES = 12\n",
    "\n",
    "train_data_gener = ImageDataGenerator(rescale = 1./255, rotation_range = 20, \n",
    "                                width_shift_range = 0.1, height_shift_range = 0.1,\n",
    "                                zoom_range = 0.2, brightness_range = [0.5, 2],\n",
    "                                shear_range = 0.2, horizontal_flip = True)\n",
    "test_data_gener = ImageDataGenerator(rescale = 1./255)\n",
    "train_data = train_data_gener.flow_from_directory('train', target_size = IMG_SIZE, \n",
    "                                                  batch_size = BATCH, class_mode = 'categorical',\n",
    "                                                  shuffle = True)\n",
    "test_data = test_data_gener.flow_from_directory('test', target_size = IMG_SIZE, \n",
    "                                                  batch_size = BATCH, class_mode = 'categorical',\n",
    "                                                  shuffle = True)\n",
    "\n",
    "base_model = EfficientNetV2S(weights='imagenet', include_top=False, input_shape=(*IMG_SIZE,3))\n",
    "base_model.trainable = False\n",
    "\n",
    "x = base_model.output\n",
    "x = GlobalAveragePooling2D()(x)\n",
    "outputs = Dense(NUM_CLASSES, activation='softmax')(x)\n",
    "\n",
    "model = Model(inputs=base_model.input, outputs=outputs)\n",
    "\n",
    "model.compile(optimizer=Adam(learning_rate=1e-3), loss='categorical_crossentropy',\n",
    "    metrics=['accuracy'])\n",
    "\n",
    "history = model.fit(train_data, validation_data=test_data, epochs=10)\n",
    "\n",
    "test_loss, test_acc = model.evaluate(test_data)\n",
    "print(f\"Test Accuracy: {test_acc*100:.2f}%\")\n",
    "print(f\"Test Loss: {test_loss:.4f}\")"
   ],
   "outputs": [
    {
     "name": "stdout",
     "output_type": "stream",
     "text": [
      "Found 4395 images belonging to 12 classes.\n",
      "Found 1099 images belonging to 12 classes.\n",
      "Epoch 1/10\n",
      "\u001B[1m  5/184\u001B[0m \u001B[37m━━━━━━━━━━━━━━━━━━━━\u001B[0m \u001B[1m6:50\u001B[0m 2s/step - accuracy: 0.1031 - loss: 2.4712"
     ]
    }
   ],
   "execution_count": null
  },
  {
   "cell_type": "code",
   "execution_count": null,
   "id": "3d07a997-c383-4731-b5ba-bc46fd6335f7",
   "metadata": {},
   "outputs": [],
   "source": []
  }
 ],
 "metadata": {
  "kernelspec": {
   "display_name": "Python 3 (ipykernel)",
   "language": "python",
   "name": "python3"
  },
  "language_info": {
   "codemirror_mode": {
    "name": "ipython",
    "version": 3
   },
   "file_extension": ".py",
   "mimetype": "text/x-python",
   "name": "python",
   "nbconvert_exporter": "python",
   "pygments_lexer": "ipython3",
   "version": "3.13.5"
  }
 },
 "nbformat": 4,
 "nbformat_minor": 5
}
